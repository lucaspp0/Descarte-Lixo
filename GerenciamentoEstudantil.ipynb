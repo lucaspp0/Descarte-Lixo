{
  "cells": [
    {
      "metadata": {
        "collapsed": true
      },
      "cell_type": "markdown",
      "source": "## Gerenciamente das salas de aulas do ensino médio e fundamental"
    },
    {
      "metadata": {},
      "cell_type": "markdown",
      "source": "   #### A divisão de várias matérias para estudar em um único dia acaba não sendo eficaz no aprendizado, além de todas as turmas recebrem tratamento iguaritário no quesito de matéria/educação, sendo que cada turma tem suas qualidade especificas que podem ser desenvolvidas. Além desse modelo de gerenciamento trazer vários impessilhos para o estudante que trabalha, ou te  algum compromisso além dos estudos no dia-a-dia."
    },
    {
      "metadata": {},
      "cell_type": "markdown",
      "source": "   #### A idéia principla do projeto é trazer o máximo do potencial de cada turma, tendo um gerenciamento das matérias automátizado individualmente para cada turma e suas peculiaridades, além de um sub sistema para decidir quais alunos terão os cargos de monitores da turma, que sua função sera além de ajudar o professor, trazer um hambiente mais amigável para a ssala de aula, com cada monitor tendo sua area/matéria de especialização e um bom nivel de comunicação. Os critérios para se escolher um monitor não são exclusivamentes as notas, e sim skills como comunicações, interações, explicativas e etc.. E esse aluno só tera beneficios academicos decorrente do seu trabalho, justamente para o incentivar."
    }
  ],
  "metadata": {
    "kernelspec": {
      "name": "python36",
      "display_name": "Python 3.6",
      "language": "python"
    },
    "language_info": {
      "mimetype": "text/x-python",
      "nbconvert_exporter": "python",
      "name": "python",
      "pygments_lexer": "ipython3",
      "version": "3.6.6",
      "file_extension": ".py",
      "codemirror_mode": {
        "version": 3,
        "name": "ipython"
      }
    }
  },
  "nbformat": 4,
  "nbformat_minor": 2
}