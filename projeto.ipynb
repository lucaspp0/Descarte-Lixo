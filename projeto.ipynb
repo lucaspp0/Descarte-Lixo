{
  "cells": [
    {
      "metadata": {
        "collapsed": true
      },
      "cell_type": "markdown",
      "source": "# Descarte Irregular de Lixo Domiciliar e Detritos de Obras.\n\nO descarte irregular de lixo gera uma poluição visual e ambiental na cidade (além de ser crime), oque pode causar alagamentos e proliferação de pragas como baratas, ratos e escorpiões. Em pontos viciados de lixo o problema acaba sendo maior, gerando verdadeiros lixões a céu aberto.\nEsse problema com o lixo acaba virando um problema de saúde pública, como casos de dengue por exemplo."
    }
  ],
  "metadata": {
    "kernelspec": {
      "name": "python36",
      "display_name": "Python 3.6",
      "language": "python"
    },
    "language_info": {
      "mimetype": "text/x-python",
      "nbconvert_exporter": "python",
      "name": "python",
      "pygments_lexer": "ipython3",
      "version": "3.6.6",
      "file_extension": ".py",
      "codemirror_mode": {
        "version": 3,
        "name": "ipython"
      }
    }
  },
  "nbformat": 4,
  "nbformat_minor": 2
}